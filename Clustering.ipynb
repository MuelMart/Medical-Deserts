{
 "cells": [
  {
   "cell_type": "code",
   "execution_count": 24,
   "id": "5c7296f7",
   "metadata": {},
   "outputs": [],
   "source": [
    "import sqlite3\n",
    "from sqlite3 import Error\n",
    "\n",
    "import pandas as pd\n",
    "import numpy as np\n",
    "import matplotlib.pyplot as plt\n",
    "\n",
    "from sklearn.mixture import GaussianMixture"
   ]
  },
  {
   "cell_type": "code",
   "execution_count": 25,
   "id": "43a42dfe",
   "metadata": {},
   "outputs": [],
   "source": [
    "#Connect to database\n",
    "try:\n",
    "    conn = sqlite3.connect(\"project_data.sqlite\")\n",
    "    conn.text_factory = str\n",
    "except Error as e:\n",
    "    print(\"Error occurred: \" + str(e))"
   ]
  },
  {
   "cell_type": "code",
   "execution_count": 26,
   "id": "6640a8ac",
   "metadata": {},
   "outputs": [],
   "source": [
    "#Read TRACTS table\n",
    "TRACTS= pd.read_sql_query(\"SELECT * FROM TRACTS\", conn)"
   ]
  },
  {
   "cell_type": "code",
   "execution_count": 27,
   "id": "cc4a38bc",
   "metadata": {},
   "outputs": [],
   "source": [
    "#Extract features to be considered\n",
    "TRACTS_= TRACTS[['IncomeDisparityE','UnemploymentRateE','P_UninsuredE','P_WithADisabilityE','MedianHouseholdIncomeE','MedianHomePriceE','P_NoVehicleAvailableE','P_NonWhiteE','P_RentBurdenedE','P_SingleParentHouseholdE','total_clinicians']]\n",
    "#Remove rows with incomplete information\n",
    "TRACTS_Ex= TRACTS_[TRACTS_.isnull().any(1)]\n",
    "TRACTS_f= TRACTS.merge(TRACTS_Ex, how='left', indicator=True)\n",
    "TRACTS_f= TRACTS_f[TRACTS_f['_merge']=='left_only']\n",
    "TRACTS_ll= TRACTS_f[['GEOID','lat','lon']]                 \n",
    "TRACTS_f= TRACTS_f[['IncomeDisparityE','UnemploymentRateE','P_UninsuredE','P_WithADisabilityE','MedianHouseholdIncomeE','MedianHomePriceE','P_NoVehicleAvailableE','P_NonWhiteE','P_RentBurdenedE','P_SingleParentHouseholdE','total_clinicians']]\n",
    "TRACTS_ll.index= [i for i in range(len(TRACTS_ll))]\n",
    "TRACTS_f.index= [i for i in range(len(TRACTS_f))]"
   ]
  },
  {
   "cell_type": "code",
   "execution_count": 28,
   "id": "80e821fa",
   "metadata": {},
   "outputs": [],
   "source": [
    "#Find optimal number of clusters\n",
    "bic= []\n",
    "for i in range(2,12):\n",
    "    clf= GaussianMixture(n_components=i, random_state=0).fit(TRACTS_f)\n",
    "    bic.append(clf.bic(TRACTS_f))"
   ]
  },
  {
   "cell_type": "code",
   "execution_count": 29,
   "id": "89281d6c",
   "metadata": {
    "scrolled": false
   },
   "outputs": [
    {
     "data": {
      "text/plain": [
       "<matplotlib.collections.PathCollection at 0x1ac165653a0>"
      ]
     },
     "execution_count": 29,
     "metadata": {},
     "output_type": "execute_result"
    },
    {
     "data": {
      "image/png": "[encoded data removed]",
      "text/plain": [
       "<Figure size 640x480 with 1 Axes>"
      ]
     },
     "metadata": {},
     "output_type": "display_data"
    }
   ],
   "source": [
    "#plot bic against number of components\n",
    "plt.scatter([i for i in range(2,12)],bic)"
   ]
  },
  {
   "cell_type": "code",
   "execution_count": 30,
   "id": "1ed643cd",
   "metadata": {},
   "outputs": [],
   "source": [
    "#optimal number of components- 2\n",
    "gm= GaussianMixture(n_components=2, random_state=0).fit(TRACTS_f)\n",
    "y_pred= gm.predict(TRACTS_f)"
   ]
  },
  {
   "cell_type": "code",
   "execution_count": 31,
   "id": "21581442",
   "metadata": {},
   "outputs": [
    {
     "data": {
      "text/plain": [
       "84414"
      ]
     },
     "execution_count": 31,
     "metadata": {},
     "output_type": "execute_result"
    }
   ],
   "source": [
    "#Export values to database\n",
    "df_y_pred= pd.DataFrame(y_pred, columns={'y_pred'})\n",
    "res= pd.concat([TRACTS_ll,TRACTS_f, df_y_pred], axis=1)\n",
    "res= TRACTS.merge(res, how='left', left_on='GEOID', right_on='GEOID', indicator=True)\n",
    "res=res[['index','GEOID', 'NAME', 'IncomeDisparityE_x', 'UnemploymentRateE_x', 'P_UninsuredE_x', 'P_WithADisabilityE_x','MedianHouseholdIncomeE_x','MedianHomePriceE_x','P_NoVehicleAvailableE_x','state','P_NonWhiteE_x','P_RentBurdenedE_x','P_SingleParentHouseholdE_x','total_clinicians_x','lat_x','lon_x','y_pred_y']]\n",
    "res= res.rename(columns={'IncomeDisparityE_x':'IncomeDisparityE', 'UnemploymentRateE_x':'UnemploymentRateE', 'P_UninsuredE_x':'P_UninsuredE', 'P_WithADisabilityE_x':'P_WithADisabilityE','MedianHouseholdIncomeE_x':'MedianHouseholdIncomeE' ,'MedianHomePriceE_x':'MedianHomePriceE','P_NoVehicleAvailableE_x':'P_NoVehicleAvailableE','P_NonWhiteE_x':'P_NonWhiteE','P_RentBurdenedE_x':'P_RentBurdenedE','P_SingleParentHouseholdE_x':'P_SingleParentHouseholdE','total_clinicians_x':'total_clinicians','lat_x':'lat','lon_x':'lon','y_pred_y':'y_Pred' })\n",
    "res.to_sql(name='TRACT_y', con=conn, if_exists= 'replace')\n",
    "# conn.commit()"
   ]
  },
  {
   "cell_type": "code",
   "execution_count": 37,
   "id": "5e4681b6",
   "metadata": {
    "scrolled": true
   },
   "outputs": [
    {
     "name": "stdout",
     "output_type": "stream",
     "text": [
      "means- [[4.07790549e-01 4.81188578e+00 8.23502017e+00 1.40751118e+01\n",
      "  7.09270635e+04 2.16909260e+05 4.61561122e+00 2.06238667e+01\n",
      "  4.41009002e+01 5.64096647e+00 5.86666517e+02]\n",
      " [4.38705613e-01 7.22199139e+00 9.76779292e+00 1.21828744e+01\n",
      "  8.07092102e+04 4.41795907e+05 1.39214607e+01 4.76717763e+01\n",
      "  5.16785026e+01 7.85865053e+00 3.00901008e+03]]\n",
      "covariance- [[[ 3.68544667e-03  1.72395651e-02  3.12367952e-02  9.07259383e-02\n",
      "   -5.43116655e+02 -6.71491908e+02  7.15998627e-02 -5.17473412e-02\n",
      "    2.07809822e-01  4.30021548e-03 -7.48340498e+00]\n",
      "  [ 1.72395651e-02  1.03031156e+01  3.23195196e+00  4.41501847e+00\n",
      "   -2.16059857e+04 -6.07472095e+04  2.24751221e+00  9.59602129e+00\n",
      "    7.69600294e+00  1.86586066e+00 -1.33044077e+02]\n",
      "  [ 3.12367952e-02  3.23195196e+00  3.47410027e+01  5.77623573e+00\n",
      "   -6.45659739e+04 -2.11028513e+05  3.13386963e+00  3.37650498e+01\n",
      "    7.28541486e+00  5.35050492e+00 -3.99364068e+02]\n",
      "  [ 9.07259383e-02  4.41501847e+00  5.77623573e+00  3.36546567e+01\n",
      "   -8.69089928e+04 -3.05927161e+05  8.08919624e+00 -1.09063232e+01\n",
      "    1.04578345e+01  7.11085322e-01 -1.30629447e+03]\n",
      "  [-5.43116655e+02 -2.16059857e+04 -6.45659739e+04 -8.69089928e+04\n",
      "    6.78347803e+08  2.13131297e+09 -4.76905086e+04 -4.12865432e+04\n",
      "   -7.36233364e+04 -2.89363905e+04  6.63954762e+06]\n",
      "  [-6.71491908e+02 -6.07472095e+04 -2.11028513e+05 -3.05927161e+05\n",
      "    2.13131297e+09  1.17915857e+10 -1.37360177e+05  1.22617246e+04\n",
      "    7.20164574e+04 -1.02213106e+05  2.78917849e+07]\n",
      "  [ 7.15998627e-02  2.24751221e+00  3.13386963e+00  8.08919624e+00\n",
      "   -4.76905086e+04 -1.37360177e+05  1.57898980e+01  8.60631011e+00\n",
      "    1.37968391e+01  3.06860074e+00 -2.59632120e+02]\n",
      "  [-5.17473412e-02  9.59602129e+00  3.37650498e+01 -1.09063232e+01\n",
      "   -4.12865432e+04  1.22617246e+04  8.60631011e+00  2.80719223e+02\n",
      "    4.65679547e+01  2.39392943e+01  2.84765971e+03]\n",
      "  [ 2.07809822e-01  7.69600294e+00  7.28541486e+00  1.04578345e+01\n",
      "   -7.36233364e+04  7.20164574e+04  1.37968391e+01  4.65679547e+01\n",
      "    3.68719799e+02  9.16205018e+00  6.44082836e+02]\n",
      "  [ 4.30021548e-03  1.86586066e+00  5.35050492e+00  7.11085322e-01\n",
      "   -2.89363905e+04 -1.02213106e+05  3.06860074e+00  2.39392943e+01\n",
      "    9.16205018e+00  1.60788108e+01 -1.23967329e+01]\n",
      "  [-7.48340498e+00 -1.33044077e+02 -3.99364068e+02 -1.30629447e+03\n",
      "    6.63954762e+06  2.78917849e+07 -2.59632120e+02  2.84765971e+03\n",
      "    6.44082836e+02 -1.23967329e+01  3.69156613e+05]]\n",
      "\n",
      " [[ 5.28151348e-03  5.87876165e-02 -2.79936642e-02  1.02016475e-01\n",
      "   -7.41154183e+02  2.26695828e+03  3.68224848e-01 -6.23659412e-02\n",
      "    2.13268365e-01  2.89781506e-02 -5.43451527e+00]\n",
      "  [ 5.87876165e-02  3.15115457e+01  8.02853955e+00  1.32398909e+01\n",
      "   -1.12956166e+05 -6.53091849e+05  1.89783823e+01  5.12580519e+01\n",
      "    1.88065819e+01  1.31627042e+01 -1.73458399e+03]\n",
      "  [-2.79936642e-02  8.02853955e+00  8.01073767e+01  4.75472499e+00\n",
      "   -2.00820914e+05 -1.33497696e+06  5.53540627e+00  5.21336163e+01\n",
      "    2.20585272e+01  1.66649707e+01 -3.51353404e+03]\n",
      "  [ 1.02016475e-01  1.32398909e+01  4.75472499e+00  4.04697017e+01\n",
      "   -1.58666850e+05 -9.81094015e+05  2.81269358e+01  3.49012240e+01\n",
      "    2.15313804e+01  1.10268751e+01 -4.32815415e+03]\n",
      "  [-7.41154183e+02 -1.12956166e+05 -2.00820914e+05 -1.58666850e+05\n",
      "    2.29705231e+09  1.20115363e+10 -2.57608023e+05 -5.39794288e+05\n",
      "   -3.04279930e+05 -1.58250292e+05  1.92612307e+07]\n",
      "  [ 2.26695828e+03 -6.53091849e+05 -1.33497696e+06 -9.81094015e+05\n",
      "    1.20115363e+10  1.31604907e+11 -2.80450689e+05 -2.69619076e+06\n",
      "   -1.12798877e+06 -1.05116848e+06  3.07284762e+08]\n",
      "  [ 3.68224848e-01  1.89783823e+01  5.53540627e+00  2.81269358e+01\n",
      "   -2.57608023e+05 -2.80450689e+05  2.36926199e+02  1.14931901e+02\n",
      "    2.91199747e+01  1.84484624e+01  1.56130314e+04]\n",
      "  [-6.23659412e-02  5.12580519e+01  5.21336163e+01  3.49012240e+01\n",
      "   -5.39794288e+05 -2.69619076e+06  1.14931901e+02  7.49478285e+02\n",
      "    9.71347832e+01  8.35684859e+01  7.20649289e+03]\n",
      "  [ 2.13268365e-01  1.88065819e+01  2.20585272e+01  2.15313804e+01\n",
      "   -3.04279930e+05 -1.12798877e+06  2.91199747e+01  9.71347832e+01\n",
      "    3.28104348e+02  2.78213025e+01 -9.46986742e+02]\n",
      "  [ 2.89781506e-02  1.31627042e+01  1.66649707e+01  1.10268751e+01\n",
      "   -1.58250292e+05 -1.05116848e+06  1.84484624e+01  8.35684859e+01\n",
      "    2.78213025e+01  4.89253338e+01 -2.73802055e+03]\n",
      "  [-5.43451527e+00 -1.73458399e+03 -3.51353404e+03 -4.32815415e+03\n",
      "    1.92612307e+07  3.07284762e+08  1.56130314e+04  7.20649289e+03\n",
      "   -9.46986742e+02 -2.73802055e+03  7.09136642e+06]]]\n",
      "Weights of components- [0.61646419 0.38353581]\n"
     ]
    }
   ],
   "source": [
    "print('means-',gm.means_)\n",
    "print('covariance-',gm.covariances_)\n",
    "print('Weights of components-',gm.weights_)"
   ]
  },
  {
   "cell_type": "code",
   "execution_count": null,
   "id": "fe959b06",
   "metadata": {},
   "outputs": [],
   "source": []
  }
 ],
 "metadata": {
  "kernelspec": {
   "display_name": "Python 3 (ipykernel)",
   "language": "python",
   "name": "python3"
  },
  "language_info": {
   "codemirror_mode": {
    "name": "ipython",
    "version": 3
   },
   "file_extension": ".py",
   "mimetype": "text/x-python",
   "name": "python",
   "nbconvert_exporter": "python",
   "pygments_lexer": "ipython3",
   "version": "3.9.12"
  }
 },
 "nbformat": 4,
 "nbformat_minor": 5
}
